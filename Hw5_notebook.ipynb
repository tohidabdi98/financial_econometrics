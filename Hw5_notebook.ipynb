{
  "cells": [
    {
      "cell_type": "markdown",
      "metadata": {
        "id": "osIEpUqS3kYd"
      },
      "source": [
        "# Question 1:"
      ]
    },
    {
      "cell_type": "code",
      "execution_count": 83,
      "metadata": {
        "colab": {
          "base_uri": "https://localhost:8080/"
        },
        "id": "nWR4-A2h28Wk",
        "outputId": "146d3183-95a6-4159-a783-e35cf95a19b4"
      },
      "outputs": [
        {
          "output_type": "stream",
          "name": "stdout",
          "text": [
            "[1] -0.01655663\n"
          ]
        }
      ],
      "source": [
        "# First Method\n",
        "var_1 = qnorm(0.0297, mean=0.04, sd=0.03)\n",
        "print(var_1)"
      ]
    },
    {
      "cell_type": "code",
      "execution_count": 84,
      "metadata": {
        "colab": {
          "base_uri": "https://localhost:8080/"
        },
        "id": "g1mEQzPn3Z-A",
        "outputId": "e03c8cde-eaae-43d5-c17b-cd120424adbf"
      },
      "outputs": [
        {
          "output_type": "stream",
          "name": "stdout",
          "text": [
            "[1] -0.01655663\n"
          ]
        }
      ],
      "source": [
        "# Second Method\n",
        "var_1_2 = (0.04 + 0.03 * qnorm(0.0297))\n",
        "print(var_1_2)"
      ]
    },
    {
      "cell_type": "markdown",
      "metadata": {
        "id": "-gJ-U7zO37Jd"
      },
      "source": [
        "# Question 2:"
      ]
    },
    {
      "cell_type": "code",
      "execution_count": 85,
      "metadata": {
        "id": "L66AGa2335ZJ"
      },
      "outputs": [],
      "source": [
        "library(quantmod)\n",
        "\n",
        "# Get the Historical Data\n",
        "startdate = \"2000-01-01\"\n",
        "msft_prices = Ad(getSymbols(\"MSFT\", auto.assign=F, from=startdate))\n",
        "\n",
        "# Calculate Log Returns\n",
        "msft_ret = diff(log(msft_prices))\n",
        "msft_ret = na.omit(msft_ret)"
      ]
    },
    {
      "cell_type": "code",
      "execution_count": 86,
      "metadata": {
        "colab": {
          "base_uri": "https://localhost:8080/"
        },
        "id": "85zXcBoz_oNo",
        "outputId": "b686281c-4b87-49df-b599-5cf45ed3f6ba"
      },
      "outputs": [
        {
          "output_type": "stream",
          "name": "stdout",
          "text": [
            "         5% \n",
            "-0.02913716 \n"
          ]
        }
      ],
      "source": [
        "# Value at Risk\n",
        "var_2 = quantile(Msft.ret, 0.05)\n",
        "print(var_2)"
      ]
    },
    {
      "cell_type": "code",
      "execution_count": 93,
      "metadata": {
        "colab": {
          "base_uri": "https://localhost:8080/"
        },
        "id": "TnusFhiA_qdW",
        "outputId": "7b76299d-5c75-4312-d6b0-e571f2906b4a"
      },
      "outputs": [
        {
          "output_type": "stream",
          "name": "stdout",
          "text": [
            "[1] -0.04566735\n"
          ]
        }
      ],
      "source": [
        "# Conditional Value at Risk\n",
        "cvar_2 = mean(msft_ret[msft_ret < var_2])\n",
        "print(cvar_2)"
      ]
    },
    {
      "cell_type": "markdown",
      "source": [
        "The assumption of normality may not always hold for financial returns, as they often exhibit characteristics such as fat tails and skewness. Therefore, it's recommended to consider alternative methods that do not rely on the assumption of normality, such as non-parametric approaches (e.g., historical simulation or Monte Carlo simulation) or models that capture the specific characteristics of financial returns (e.g., GARCH models)."
      ],
      "metadata": {
        "id": "XyumlgQ7P0y2"
      }
    },
    {
      "cell_type": "markdown",
      "metadata": {
        "id": "1pD0qslpAmAB"
      },
      "source": [
        "# Question 3:"
      ]
    },
    {
      "cell_type": "code",
      "execution_count": 88,
      "metadata": {
        "id": "m8-Un5YaAn3l"
      },
      "outputs": [],
      "source": [
        "# Get the historical Data\n",
        "tickers= c(\"MSFT\", \"AAPL\", \"AMZN\")\n",
        "startdate = \"2000-01-01\"\n",
        "prices = getSymbols(tickers, auto.assign=T, from=startdate)\n",
        "\n",
        "msft_prices <- Ad(get(\"MSFT\"))\n",
        "aapl_prices <- Ad(get(\"AAPL\"))\n",
        "amzn_prices <- Ad(get(\"AMZN\"))"
      ]
    },
    {
      "cell_type": "code",
      "source": [
        "# Create Portfolio\n",
        "portfolio_prices <- 0.5 * msft_prices + 0.1 * aapl_prices + 0.4 * amzn_prices\n",
        "\n",
        "# Calculate Portfolio Log Return\n",
        "portfolio_ret = diff(log(portfolio_prices))\n",
        "portfolio_ret = na.omit(portfolio_ret)"
      ],
      "metadata": {
        "id": "_vVxGhxxN2Cu"
      },
      "execution_count": 89,
      "outputs": []
    },
    {
      "cell_type": "code",
      "source": [
        "# Value at Risk\n",
        "var_3 = quantile(portfolio_ret, 0.05)\n",
        "print(var_3)"
      ],
      "metadata": {
        "colab": {
          "base_uri": "https://localhost:8080/"
        },
        "id": "gVBNiplNOZzg",
        "outputId": "da4a385e-1f7c-4ac7-d2c2-e9eaa4f991f9"
      },
      "execution_count": 92,
      "outputs": [
        {
          "output_type": "stream",
          "name": "stdout",
          "text": [
            "         5% \n",
            "-0.02835321 \n"
          ]
        }
      ]
    },
    {
      "cell_type": "code",
      "source": [
        "# Conditional Value at Risk\n",
        "cvar_3 = mean(portfolio_ret[portfolio_ret < var_3])\n",
        "print(cvar_3)"
      ],
      "metadata": {
        "colab": {
          "base_uri": "https://localhost:8080/"
        },
        "id": "pxMzQ4dKO2fn",
        "outputId": "d921070b-4ab4-4aab-ce77-310e46a6b83a"
      },
      "execution_count": 91,
      "outputs": [
        {
          "output_type": "stream",
          "name": "stdout",
          "text": [
            "[1] -0.04454152\n"
          ]
        }
      ]
    },
    {
      "cell_type": "markdown",
      "source": [
        "Non-parametric VaR estimation, also known as historical VaR estimation, is a method used to calculate Value at Risk (VaR) by using historical data. While it has some advantages, such as simplicity and intuitive interpretation, it also has several drawbacks:\n",
        "\n",
        "* Assumption of stationarity: Non-parametric VaR estimation assumes that the historical data used to calculate VaR is stationary, meaning that the statistical properties of the data remain constant over time. However, financial markets are often characterized by volatility clustering, trends, and regime shifts, which violate the assumption of stationarity. Consequently, non-parametric VaR may not adequately capture these changes in market conditions.\n",
        "\n",
        "* Inadequate coverage of extreme events: Non-parametric VaR estimation relies solely on historical data to estimate the potential losses beyond a certain confidence level. However, extreme events that have not occurred in the historical data can still happen in the future. Non-parametric VaR may not capture the tail risk associated with these rare events, leading to an underestimation of the actual risk.\n",
        "\n",
        "* Sensitivity to data period selection: The choice of the historical data period used to estimate VaR can significantly impact the results. Different data periods can lead to different estimates of VaR, which may result in inconsistent risk measures. Moreover, using longer historical periods may include outdated information that is no longer relevant to the current market conditions.\n",
        "\n",
        "* Lack of modeling flexibility: Non-parametric VaR estimation does not explicitly model the underlying distribution of the data. It assumes that the historical data itself provides a sufficient representation of the risk. This approach overlooks the benefits of incorporating more sophisticated models that can capture the dynamics and dependencies in financial markets, such as parametric methods or Monte Carlo simulations.\n",
        "\n",
        "* Ignoring portfolio effects: Non-parametric VaR estimation typically focuses on individual asset returns and may not adequately account for portfolio effects, such as diversification and correlations among assets. By neglecting these interactions, non-parametric VaR may underestimate the risk of a portfolio, leading to suboptimal risk management decisions.\n",
        "\n",
        "Overall, while non-parametric VaR estimation has its merits in terms of simplicity and ease of implementation, it is important to recognize its limitations and consider more comprehensive approaches that address the drawbacks mentioned above."
      ],
      "metadata": {
        "id": "PMJ6t9aoNkq9"
      }
    }
  ],
  "metadata": {
    "colab": {
      "provenance": []
    },
    "kernelspec": {
      "display_name": "R",
      "name": "ir"
    },
    "language_info": {
      "name": "R"
    }
  },
  "nbformat": 4,
  "nbformat_minor": 0
}